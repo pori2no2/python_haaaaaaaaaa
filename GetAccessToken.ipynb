{
 "cells": [
  {
   "cell_type": "code",
   "execution_count": 1,
   "metadata": {},
   "outputs": [
    {
     "ename": "CalledProcessError",
     "evalue": "Command 'curl -X POST -sS https:///api/v1/apps -F \"client_name=\" -F \"redirect_uris=urn:ietf:wg:oauth:2.0:oob\" -F \"scopes=read write follow\"' returned non-zero exit status 6.",
     "output_type": "error",
     "traceback": [
      "\u001b[0;31m---------------------------------------------------------------------------\u001b[0m",
      "\u001b[0;31mCalledProcessError\u001b[0m                        Traceback (most recent call last)",
      "\u001b[0;32m<ipython-input-1-63480e7345c5>\u001b[0m in \u001b[0;36m<module>\u001b[0;34m()\u001b[0m\n\u001b[1;32m     14\u001b[0m cmd = 'curl -X POST -sS https://{0:s}/api/v1/apps -F \"client_name={1:s}\" -F \"redirect_uris=urn:ietf:wg:oauth:2.0:oob\" -F \"scopes=read write follow\"'.format(\n\u001b[1;32m     15\u001b[0m     mastodonHost,clientName)\n\u001b[0;32m---> 16\u001b[0;31m \u001b[0mOAuth2\u001b[0m \u001b[0;34m=\u001b[0m \u001b[0mjson\u001b[0m\u001b[0;34m.\u001b[0m\u001b[0mloads\u001b[0m\u001b[0;34m(\u001b[0m\u001b[0msubprocess\u001b[0m\u001b[0;34m.\u001b[0m\u001b[0mcheck_output\u001b[0m\u001b[0;34m(\u001b[0m\u001b[0mcmd\u001b[0m\u001b[0;34m,\u001b[0m \u001b[0mshell\u001b[0m\u001b[0;34m=\u001b[0m\u001b[0;32mTrue\u001b[0m\u001b[0;34m)\u001b[0m\u001b[0;34m.\u001b[0m\u001b[0mdecode\u001b[0m\u001b[0;34m(\u001b[0m\u001b[0;34m'utf-8'\u001b[0m\u001b[0;34m)\u001b[0m\u001b[0;34m.\u001b[0m\u001b[0mstrip\u001b[0m\u001b[0;34m(\u001b[0m\u001b[0;34m)\u001b[0m\u001b[0;34m)\u001b[0m\u001b[0;34m\u001b[0m\u001b[0m\n\u001b[0m\u001b[1;32m     17\u001b[0m \u001b[0mprint\u001b[0m\u001b[0;34m(\u001b[0m\u001b[0mcmd\u001b[0m\u001b[0;34m)\u001b[0m\u001b[0;34m\u001b[0m\u001b[0m\n\u001b[1;32m     18\u001b[0m \u001b[0mprint\u001b[0m\u001b[0;34m(\u001b[0m\u001b[0mOAuth2\u001b[0m\u001b[0;34m)\u001b[0m\u001b[0;34m\u001b[0m\u001b[0m\n",
      "\u001b[0;32m/usr/local/Cellar/python/3.6.4_4/Frameworks/Python.framework/Versions/3.6/lib/python3.6/subprocess.py\u001b[0m in \u001b[0;36mcheck_output\u001b[0;34m(timeout, *popenargs, **kwargs)\u001b[0m\n\u001b[1;32m    334\u001b[0m \u001b[0;34m\u001b[0m\u001b[0m\n\u001b[1;32m    335\u001b[0m     return run(*popenargs, stdout=PIPE, timeout=timeout, check=True,\n\u001b[0;32m--> 336\u001b[0;31m                **kwargs).stdout\n\u001b[0m\u001b[1;32m    337\u001b[0m \u001b[0;34m\u001b[0m\u001b[0m\n\u001b[1;32m    338\u001b[0m \u001b[0;34m\u001b[0m\u001b[0m\n",
      "\u001b[0;32m/usr/local/Cellar/python/3.6.4_4/Frameworks/Python.framework/Versions/3.6/lib/python3.6/subprocess.py\u001b[0m in \u001b[0;36mrun\u001b[0;34m(input, timeout, check, *popenargs, **kwargs)\u001b[0m\n\u001b[1;32m    416\u001b[0m         \u001b[0;32mif\u001b[0m \u001b[0mcheck\u001b[0m \u001b[0;32mand\u001b[0m \u001b[0mretcode\u001b[0m\u001b[0;34m:\u001b[0m\u001b[0;34m\u001b[0m\u001b[0m\n\u001b[1;32m    417\u001b[0m             raise CalledProcessError(retcode, process.args,\n\u001b[0;32m--> 418\u001b[0;31m                                      output=stdout, stderr=stderr)\n\u001b[0m\u001b[1;32m    419\u001b[0m     \u001b[0;32mreturn\u001b[0m \u001b[0mCompletedProcess\u001b[0m\u001b[0;34m(\u001b[0m\u001b[0mprocess\u001b[0m\u001b[0;34m.\u001b[0m\u001b[0margs\u001b[0m\u001b[0;34m,\u001b[0m \u001b[0mretcode\u001b[0m\u001b[0;34m,\u001b[0m \u001b[0mstdout\u001b[0m\u001b[0;34m,\u001b[0m \u001b[0mstderr\u001b[0m\u001b[0;34m)\u001b[0m\u001b[0;34m\u001b[0m\u001b[0m\n\u001b[1;32m    420\u001b[0m \u001b[0;34m\u001b[0m\u001b[0m\n",
      "\u001b[0;31mCalledProcessError\u001b[0m: Command 'curl -X POST -sS https:///api/v1/apps -F \"client_name=\" -F \"redirect_uris=urn:ietf:wg:oauth:2.0:oob\" -F \"scopes=read write follow\"' returned non-zero exit status 6."
     ]
    }
   ],
   "source": [
    "# 課題内容：mastodonAPIの取得\n",
    "# URL: https://takulog.info/exercise-python-for-mastodon-1/\n",
    "\n",
    "# coding: utf-8\n",
    "import subprocess, json\n",
    "import getpass\n",
    "\n",
    "# 以下の手順に従う\n",
    "# https://qiita.com/m13o/items/7798f09f16523d5693d5\n",
    "\n",
    "# OAuth2 クライアント登録\n",
    "mastodonHost = ''\n",
    "clientName = ''\n",
    "cmd = 'curl -X POST -sS https://{0:s}/api/v1/apps -F \"client_name={1:s}\" -F \"redirect_uris=urn:ietf:wg:oauth:2.0:oob\" -F \"scopes=read write follow\"'.format(\n",
    "    mastodonHost,clientName)\n",
    "OAuth2 = json.loads(subprocess.check_output(cmd, shell=True).decode('utf-8').strip())\n",
    "print(cmd)\n",
    "print(OAuth2)\n",
    "\n",
    "with open('client_id.txt', 'w') as f:\n",
    "    f.write(OAuth2['client_id'])\n",
    "print(\"書き込んだお！\")"
   ]
  },
  {
   "cell_type": "code",
   "execution_count": 2,
   "metadata": {},
   "outputs": [
    {
     "ename": "NameError",
     "evalue": "name 'OAuth2' is not defined",
     "output_type": "error",
     "traceback": [
      "\u001b[0;31m---------------------------------------------------------------------------\u001b[0m",
      "\u001b[0;31mNameError\u001b[0m                                 Traceback (most recent call last)",
      "\u001b[0;32m<ipython-input-2-1b5baf38bf20>\u001b[0m in \u001b[0;36m<module>\u001b[0;34m()\u001b[0m\n\u001b[1;32m      1\u001b[0m \u001b[0;31m# authorization_codeの取得\u001b[0m\u001b[0;34m\u001b[0m\u001b[0;34m\u001b[0m\u001b[0m\n\u001b[0;32m----> 2\u001b[0;31m \u001b[0mclientId\u001b[0m \u001b[0;34m=\u001b[0m \u001b[0mOAuth2\u001b[0m\u001b[0;34m[\u001b[0m\u001b[0;34m'client_id'\u001b[0m\u001b[0;34m]\u001b[0m\u001b[0;34m\u001b[0m\u001b[0m\n\u001b[0m\u001b[1;32m      3\u001b[0m \u001b[0mclientSecret\u001b[0m \u001b[0;34m=\u001b[0m \u001b[0mOAuth2\u001b[0m\u001b[0;34m[\u001b[0m\u001b[0;34m'client_secret'\u001b[0m\u001b[0;34m]\u001b[0m\u001b[0;34m\u001b[0m\u001b[0m\n\u001b[1;32m      4\u001b[0m \u001b[0mresponseType\u001b[0m \u001b[0;34m=\u001b[0m \u001b[0;34m'code'\u001b[0m\u001b[0;34m\u001b[0m\u001b[0m\n\u001b[1;32m      5\u001b[0m \u001b[0mredirectURI\u001b[0m \u001b[0;34m=\u001b[0m \u001b[0;34m'urn:ietf:wg:oauth:2.0:oob'\u001b[0m\u001b[0;34m\u001b[0m\u001b[0m\n",
      "\u001b[0;31mNameError\u001b[0m: name 'OAuth2' is not defined"
     ]
    }
   ],
   "source": [
    "# authorization_codeの取得\n",
    "clientId = OAuth2['client_id']\n",
    "clientSecret = OAuth2['client_secret']\n",
    "responseType = 'code'\n",
    "redirectURI = 'urn:ietf:wg:oauth:2.0:oob'\n",
    "username = ''\n",
    "scope = 'read%20write%20follow'\n",
    "cmd2 = 'open https://{0:s}/oauth/authorize?client_id={1:s}&response_type=code&redirect_uri=urn:ietf:wg:oauth:2.0:oob&scope=read%20write%20follow'.format(\n",
    "    mastodonHost, clientId)\n",
    "print(\"以下のURLをクリックして認証してね！\")\n",
    "print(cmd2)\n",
    "# subprocess.check_output(cmd2, shell=True)"
   ]
  },
  {
   "cell_type": "code",
   "execution_count": 3,
   "metadata": {
    "scrolled": true
   },
   "outputs": [
    {
     "name": "stdout",
     "output_type": "stream",
     "text": [
      "input authorization code: a\n"
     ]
    },
    {
     "ename": "NameError",
     "evalue": "name 'clientId' is not defined",
     "output_type": "error",
     "traceback": [
      "\u001b[0;31m---------------------------------------------------------------------------\u001b[0m",
      "\u001b[0;31mNameError\u001b[0m                                 Traceback (most recent call last)",
      "\u001b[0;32m<ipython-input-3-e002dd200721>\u001b[0m in \u001b[0;36m<module>\u001b[0;34m()\u001b[0m\n\u001b[1;32m      2\u001b[0m \u001b[0mauthorizationCode\u001b[0m \u001b[0;34m=\u001b[0m \u001b[0minput\u001b[0m\u001b[0;34m(\u001b[0m\u001b[0;34m\"input authorization code: \"\u001b[0m\u001b[0;34m)\u001b[0m\u001b[0;34m\u001b[0m\u001b[0m\n\u001b[1;32m      3\u001b[0m cmd3 = 'curl -X POST -sS https://{0:s}/oauth/token -F \"grant_type=authorization_code\" -F \"redirect_uri=urn:ietf:wg:oauth:2.0:oob\" -F \"client_id={1:s}\" -F \"client_secret={2:s}\" -F \"code={3:s}\"'.format(\n\u001b[0;32m----> 4\u001b[0;31m     mastodonHost, clientId,clientSecret, authorizationCode)\n\u001b[0m\u001b[1;32m      5\u001b[0m \u001b[0maccessToken\u001b[0m \u001b[0;34m=\u001b[0m \u001b[0mjson\u001b[0m\u001b[0;34m.\u001b[0m\u001b[0mloads\u001b[0m\u001b[0;34m(\u001b[0m\u001b[0msubprocess\u001b[0m\u001b[0;34m.\u001b[0m\u001b[0mcheck_output\u001b[0m\u001b[0;34m(\u001b[0m\u001b[0mcmd3\u001b[0m\u001b[0;34m,\u001b[0m \u001b[0mshell\u001b[0m\u001b[0;34m=\u001b[0m\u001b[0;32mTrue\u001b[0m\u001b[0;34m)\u001b[0m\u001b[0;34m.\u001b[0m\u001b[0mdecode\u001b[0m\u001b[0;34m(\u001b[0m\u001b[0;34m'utf-8'\u001b[0m\u001b[0;34m)\u001b[0m\u001b[0;34m.\u001b[0m\u001b[0mstrip\u001b[0m\u001b[0;34m(\u001b[0m\u001b[0;34m)\u001b[0m\u001b[0;34m)\u001b[0m\u001b[0;34m\u001b[0m\u001b[0m\n\u001b[1;32m      6\u001b[0m \u001b[0mprint\u001b[0m\u001b[0;34m(\u001b[0m\u001b[0maccessToken\u001b[0m\u001b[0;34m)\u001b[0m\u001b[0;34m\u001b[0m\u001b[0m\n",
      "\u001b[0;31mNameError\u001b[0m: name 'clientId' is not defined"
     ]
    }
   ],
   "source": [
    "# アクセストークンの取得\n",
    "authorizationCode = input(\"input authorization code: \")\n",
    "cmd3 = 'curl -X POST -sS https://{0:s}/oauth/token -F \"grant_type=authorization_code\" -F \"redirect_uri=urn:ietf:wg:oauth:2.0:oob\" -F \"client_id={1:s}\" -F \"client_secret={2:s}\" -F \"code={3:s}\"'.format(\n",
    "    mastodonHost, clientId,clientSecret, authorizationCode)\n",
    "accessToken = json.loads(subprocess.check_output(cmd3, shell=True).decode('utf-8').strip())\n",
    "print(accessToken)"
   ]
  },
  {
   "cell_type": "code",
   "execution_count": 4,
   "metadata": {},
   "outputs": [
    {
     "ename": "NameError",
     "evalue": "name 'accessToken' is not defined",
     "output_type": "error",
     "traceback": [
      "\u001b[0;31m---------------------------------------------------------------------------\u001b[0m",
      "\u001b[0;31mNameError\u001b[0m                                 Traceback (most recent call last)",
      "\u001b[0;32m<ipython-input-4-3748fb9b95ec>\u001b[0m in \u001b[0;36m<module>\u001b[0;34m()\u001b[0m\n\u001b[1;32m      1\u001b[0m \u001b[0;31m# 書き込み\u001b[0m\u001b[0;34m\u001b[0m\u001b[0;34m\u001b[0m\u001b[0m\n\u001b[1;32m      2\u001b[0m \u001b[0;32mwith\u001b[0m \u001b[0mopen\u001b[0m\u001b[0;34m(\u001b[0m\u001b[0;34m'access_token.txt'\u001b[0m\u001b[0;34m,\u001b[0m \u001b[0;34m'w'\u001b[0m\u001b[0;34m)\u001b[0m \u001b[0;32mas\u001b[0m \u001b[0mf\u001b[0m\u001b[0;34m:\u001b[0m\u001b[0;34m\u001b[0m\u001b[0m\n\u001b[0;32m----> 3\u001b[0;31m     \u001b[0mf\u001b[0m\u001b[0;34m.\u001b[0m\u001b[0mwrite\u001b[0m\u001b[0;34m(\u001b[0m\u001b[0maccessToken\u001b[0m\u001b[0;34m[\u001b[0m\u001b[0;34m'access_token'\u001b[0m\u001b[0;34m]\u001b[0m\u001b[0;34m)\u001b[0m\u001b[0;34m\u001b[0m\u001b[0m\n\u001b[0m\u001b[1;32m      4\u001b[0m \u001b[0mprint\u001b[0m\u001b[0;34m(\u001b[0m\u001b[0;34m\"書き込んだお！\"\u001b[0m\u001b[0;34m)\u001b[0m\u001b[0;34m\u001b[0m\u001b[0m\n",
      "\u001b[0;31mNameError\u001b[0m: name 'accessToken' is not defined"
     ]
    }
   ],
   "source": [
    "# 書き込み\n",
    "with open('access_token.txt', 'w') as f:\n",
    "    f.write(accessToken['access_token'])\n",
    "print(\"書き込んだお！\")"
   ]
  },
  {
   "cell_type": "code",
   "execution_count": null,
   "metadata": {
    "collapsed": true
   },
   "outputs": [],
   "source": []
  }
 ],
 "metadata": {
  "kernelspec": {
   "display_name": "Python 3",
   "language": "python",
   "name": "python3"
  },
  "language_info": {
   "codemirror_mode": {
    "name": "ipython",
    "version": 3
   },
   "file_extension": ".py",
   "mimetype": "text/x-python",
   "name": "python",
   "nbconvert_exporter": "python",
   "pygments_lexer": "ipython3",
   "version": "3.6.4"
  }
 },
 "nbformat": 4,
 "nbformat_minor": 2
}
